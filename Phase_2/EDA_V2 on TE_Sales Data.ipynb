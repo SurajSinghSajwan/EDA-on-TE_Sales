{
 "cells": [
  {
   "cell_type": "code",
   "execution_count": 1,
   "id": "8304cdc0-3f6e-477f-8dc0-29de4eb148f3",
   "metadata": {},
   "outputs": [
    {
     "name": "stderr",
     "output_type": "stream",
     "text": [
      "C:\\Users\\suraj\\AppData\\Local\\Programs\\Python\\Python311\\Lib\\site-packages\\numpy\\_distributor_init.py:30: UserWarning: loaded more than 1 DLL from .libs:\n",
      "C:\\Users\\suraj\\AppData\\Local\\Programs\\Python\\Python311\\Lib\\site-packages\\numpy\\.libs\\libopenblas64__v0.3.21-gcc_10_3_0.dll\n",
      "C:\\Users\\suraj\\AppData\\Local\\Programs\\Python\\Python311\\Lib\\site-packages\\numpy\\.libs\\libopenblas64__v0.3.23-gcc_10_3_0.dll\n",
      "  warnings.warn(\"loaded more than 1 DLL from .libs:\"\n"
     ]
    }
   ],
   "source": [
    "import pandas as pd \n",
    "import matplotlib.pyplot as plt\n",
    "import seaborn as sns"
   ]
  },
  {
   "cell_type": "code",
   "execution_count": 2,
   "id": "2463781c-d1c9-4e34-baf1-5feab84282f0",
   "metadata": {},
   "outputs": [],
   "source": [
    "testData = pd.read_csv('TE Sales Labelled Data- Analysis testData.csv')"
   ]
  },
  {
   "cell_type": "code",
   "execution_count": 3,
   "id": "2b04fb27-b037-4e91-bf04-06c88169910e",
   "metadata": {},
   "outputs": [],
   "source": [
    "relaventColumns = [\n",
    "    \"abicms_caseid\", \"abicms_casemanagementid\", \"abicms_casemanagementidname\", \n",
    "    \"abicms_casenumber\", \"abicms_casetransactionsid\", \"abicms_categorytes\", \n",
    "    \"abicms_comments\", \"abicms_subcategorytes\", \"abicms_expectationofriskscorename\",\n",
    "    \"abicms_typeofrisktename\", \"modifiedby\", \"modifiedbyname\", \"createdby\", \n",
    "    \"createdbyname\", \"createdonbehalfby\", \"createdonbehalfbyname\", \n",
    "    \"abicms_typeofrisktesalesname\", \"abicms_riskscore\"\n",
    "]"
   ]
  },
  {
   "cell_type": "code",
   "execution_count": 4,
   "id": "0b1c04d6-123d-4baa-b008-1c055b82d76f",
   "metadata": {},
   "outputs": [],
   "source": [
    "testData_Relavent = testData[relaventColumns]"
   ]
  },
  {
   "cell_type": "code",
   "execution_count": 5,
   "id": "e9a3ab34-254a-4c6c-924a-ab8e03bdcdc7",
   "metadata": {},
   "outputs": [
    {
     "data": {
      "text/html": [
       "<div>\n",
       "<style scoped>\n",
       "    .dataframe tbody tr th:only-of-type {\n",
       "        vertical-align: middle;\n",
       "    }\n",
       "\n",
       "    .dataframe tbody tr th {\n",
       "        vertical-align: top;\n",
       "    }\n",
       "\n",
       "    .dataframe thead th {\n",
       "        text-align: right;\n",
       "    }\n",
       "</style>\n",
       "<table border=\"1\" class=\"dataframe\">\n",
       "  <thead>\n",
       "    <tr style=\"text-align: right;\">\n",
       "      <th></th>\n",
       "      <th>abicms_caseid</th>\n",
       "      <th>abicms_casemanagementid</th>\n",
       "      <th>abicms_casemanagementidname</th>\n",
       "      <th>abicms_casenumber</th>\n",
       "      <th>abicms_casetransactionsid</th>\n",
       "      <th>abicms_categorytes</th>\n",
       "      <th>abicms_comments</th>\n",
       "      <th>abicms_subcategorytes</th>\n",
       "      <th>abicms_expectationofriskscorename</th>\n",
       "      <th>abicms_typeofrisktename</th>\n",
       "      <th>modifiedby</th>\n",
       "      <th>modifiedbyname</th>\n",
       "      <th>createdby</th>\n",
       "      <th>createdbyname</th>\n",
       "      <th>createdonbehalfby</th>\n",
       "      <th>createdonbehalfbyname</th>\n",
       "      <th>abicms_typeofrisktesalesname</th>\n",
       "      <th>abicms_riskscore</th>\n",
       "    </tr>\n",
       "  </thead>\n",
       "  <tbody>\n",
       "    <tr>\n",
       "      <th>0</th>\n",
       "      <td>50015</td>\n",
       "      <td>87D0480E-1DCE-ED11-B596-6045BD026D20</td>\n",
       "      <td>T&amp;E Sales Case - 3/29/2023 5:32 AM0.23909636</td>\n",
       "      <td>FE050015TS</td>\n",
       "      <td>89D0480E-1DCE-ED11-B596-6045BD026D20</td>\n",
       "      <td>NaN</td>\n",
       "      <td>NaN</td>\n",
       "      <td>NaN</td>\n",
       "      <td>NaN</td>\n",
       "      <td>NaN</td>\n",
       "      <td>35D4FBCA-CBAE-ED11-AAD0-6045BD0261E9</td>\n",
       "      <td>Barath Kumar</td>\n",
       "      <td>7D639B65-5BB3-ED11-9885-000D3A3058BC</td>\n",
       "      <td>Dheeraj Thimmaiah</td>\n",
       "      <td>NaN</td>\n",
       "      <td>NaN</td>\n",
       "      <td>NaN</td>\n",
       "      <td>0.0</td>\n",
       "    </tr>\n",
       "    <tr>\n",
       "      <th>1</th>\n",
       "      <td>50167</td>\n",
       "      <td>1E8720E3-4EFA-ED11-8849-000D3A5C6189</td>\n",
       "      <td>T&amp;E Sales Case - 5/24/2023 11:20 AM0.01337148</td>\n",
       "      <td>FE050167TS</td>\n",
       "      <td>2A8720E3-4EFA-ED11-8849-000D3A5C6189</td>\n",
       "      <td>NaN</td>\n",
       "      <td>NaN</td>\n",
       "      <td>NaN</td>\n",
       "      <td>NaN</td>\n",
       "      <td>NaN</td>\n",
       "      <td>35D4FBCA-CBAE-ED11-AAD0-6045BD0261E9</td>\n",
       "      <td>Barath Kumar</td>\n",
       "      <td>5D639B65-5BB3-ED11-9885-000D3A3058BC</td>\n",
       "      <td>Joshua Swyers</td>\n",
       "      <td>NaN</td>\n",
       "      <td>NaN</td>\n",
       "      <td>NaN</td>\n",
       "      <td>20.6</td>\n",
       "    </tr>\n",
       "    <tr>\n",
       "      <th>2</th>\n",
       "      <td>50167</td>\n",
       "      <td>1E8720E3-4EFA-ED11-8849-000D3A5C6189</td>\n",
       "      <td>T&amp;E Sales Case - 5/24/2023 11:20 AM0.01337148</td>\n",
       "      <td>FE050167TS</td>\n",
       "      <td>2E8720E3-4EFA-ED11-8849-000D3A5C6189</td>\n",
       "      <td>NaN</td>\n",
       "      <td>NaN</td>\n",
       "      <td>NaN</td>\n",
       "      <td>NaN</td>\n",
       "      <td>NaN</td>\n",
       "      <td>35D4FBCA-CBAE-ED11-AAD0-6045BD0261E9</td>\n",
       "      <td>Barath Kumar</td>\n",
       "      <td>5D639B65-5BB3-ED11-9885-000D3A3058BC</td>\n",
       "      <td>Joshua Swyers</td>\n",
       "      <td>NaN</td>\n",
       "      <td>NaN</td>\n",
       "      <td>NaN</td>\n",
       "      <td>20.6</td>\n",
       "    </tr>\n",
       "    <tr>\n",
       "      <th>3</th>\n",
       "      <td>50167</td>\n",
       "      <td>1E8720E3-4EFA-ED11-8849-000D3A5C6189</td>\n",
       "      <td>T&amp;E Sales Case - 5/24/2023 11:20 AM0.01337148</td>\n",
       "      <td>FE050167TS</td>\n",
       "      <td>2466ECE5-4EFA-ED11-8849-000D3A5C6000</td>\n",
       "      <td>NaN</td>\n",
       "      <td>NaN</td>\n",
       "      <td>NaN</td>\n",
       "      <td>NaN</td>\n",
       "      <td>NaN</td>\n",
       "      <td>35D4FBCA-CBAE-ED11-AAD0-6045BD0261E9</td>\n",
       "      <td>Barath Kumar</td>\n",
       "      <td>5D639B65-5BB3-ED11-9885-000D3A3058BC</td>\n",
       "      <td>Joshua Swyers</td>\n",
       "      <td>NaN</td>\n",
       "      <td>NaN</td>\n",
       "      <td>NaN</td>\n",
       "      <td>20.6</td>\n",
       "    </tr>\n",
       "    <tr>\n",
       "      <th>4</th>\n",
       "      <td>50167</td>\n",
       "      <td>1E8720E3-4EFA-ED11-8849-000D3A5C6189</td>\n",
       "      <td>T&amp;E Sales Case - 5/24/2023 11:20 AM0.01337148</td>\n",
       "      <td>FE050167TS</td>\n",
       "      <td>2566ECE5-4EFA-ED11-8849-000D3A5C6000</td>\n",
       "      <td>NaN</td>\n",
       "      <td>NaN</td>\n",
       "      <td>NaN</td>\n",
       "      <td>NaN</td>\n",
       "      <td>NaN</td>\n",
       "      <td>35D4FBCA-CBAE-ED11-AAD0-6045BD0261E9</td>\n",
       "      <td>Barath Kumar</td>\n",
       "      <td>5D639B65-5BB3-ED11-9885-000D3A3058BC</td>\n",
       "      <td>Joshua Swyers</td>\n",
       "      <td>NaN</td>\n",
       "      <td>NaN</td>\n",
       "      <td>NaN</td>\n",
       "      <td>20.6</td>\n",
       "    </tr>\n",
       "  </tbody>\n",
       "</table>\n",
       "</div>"
      ],
      "text/plain": [
       "   abicms_caseid               abicms_casemanagementid  \\\n",
       "0          50015  87D0480E-1DCE-ED11-B596-6045BD026D20   \n",
       "1          50167  1E8720E3-4EFA-ED11-8849-000D3A5C6189   \n",
       "2          50167  1E8720E3-4EFA-ED11-8849-000D3A5C6189   \n",
       "3          50167  1E8720E3-4EFA-ED11-8849-000D3A5C6189   \n",
       "4          50167  1E8720E3-4EFA-ED11-8849-000D3A5C6189   \n",
       "\n",
       "                     abicms_casemanagementidname abicms_casenumber  \\\n",
       "0   T&E Sales Case - 3/29/2023 5:32 AM0.23909636        FE050015TS   \n",
       "1  T&E Sales Case - 5/24/2023 11:20 AM0.01337148        FE050167TS   \n",
       "2  T&E Sales Case - 5/24/2023 11:20 AM0.01337148        FE050167TS   \n",
       "3  T&E Sales Case - 5/24/2023 11:20 AM0.01337148        FE050167TS   \n",
       "4  T&E Sales Case - 5/24/2023 11:20 AM0.01337148        FE050167TS   \n",
       "\n",
       "              abicms_casetransactionsid abicms_categorytes abicms_comments  \\\n",
       "0  89D0480E-1DCE-ED11-B596-6045BD026D20                NaN             NaN   \n",
       "1  2A8720E3-4EFA-ED11-8849-000D3A5C6189                NaN             NaN   \n",
       "2  2E8720E3-4EFA-ED11-8849-000D3A5C6189                NaN             NaN   \n",
       "3  2466ECE5-4EFA-ED11-8849-000D3A5C6000                NaN             NaN   \n",
       "4  2566ECE5-4EFA-ED11-8849-000D3A5C6000                NaN             NaN   \n",
       "\n",
       "  abicms_subcategorytes abicms_expectationofriskscorename  \\\n",
       "0                   NaN                               NaN   \n",
       "1                   NaN                               NaN   \n",
       "2                   NaN                               NaN   \n",
       "3                   NaN                               NaN   \n",
       "4                   NaN                               NaN   \n",
       "\n",
       "   abicms_typeofrisktename                            modifiedby  \\\n",
       "0                      NaN  35D4FBCA-CBAE-ED11-AAD0-6045BD0261E9   \n",
       "1                      NaN  35D4FBCA-CBAE-ED11-AAD0-6045BD0261E9   \n",
       "2                      NaN  35D4FBCA-CBAE-ED11-AAD0-6045BD0261E9   \n",
       "3                      NaN  35D4FBCA-CBAE-ED11-AAD0-6045BD0261E9   \n",
       "4                      NaN  35D4FBCA-CBAE-ED11-AAD0-6045BD0261E9   \n",
       "\n",
       "  modifiedbyname                             createdby      createdbyname  \\\n",
       "0   Barath Kumar  7D639B65-5BB3-ED11-9885-000D3A3058BC  Dheeraj Thimmaiah   \n",
       "1   Barath Kumar  5D639B65-5BB3-ED11-9885-000D3A3058BC      Joshua Swyers   \n",
       "2   Barath Kumar  5D639B65-5BB3-ED11-9885-000D3A3058BC      Joshua Swyers   \n",
       "3   Barath Kumar  5D639B65-5BB3-ED11-9885-000D3A3058BC      Joshua Swyers   \n",
       "4   Barath Kumar  5D639B65-5BB3-ED11-9885-000D3A3058BC      Joshua Swyers   \n",
       "\n",
       "   createdonbehalfby  createdonbehalfbyname abicms_typeofrisktesalesname  \\\n",
       "0                NaN                    NaN                          NaN   \n",
       "1                NaN                    NaN                          NaN   \n",
       "2                NaN                    NaN                          NaN   \n",
       "3                NaN                    NaN                          NaN   \n",
       "4                NaN                    NaN                          NaN   \n",
       "\n",
       "   abicms_riskscore  \n",
       "0               0.0  \n",
       "1              20.6  \n",
       "2              20.6  \n",
       "3              20.6  \n",
       "4              20.6  "
      ]
     },
     "execution_count": 5,
     "metadata": {},
     "output_type": "execute_result"
    }
   ],
   "source": [
    "testData_Relavent.head()"
   ]
  },
  {
   "cell_type": "code",
   "execution_count": 13,
   "id": "9fe554bf-d35f-4310-831f-77b509ecdb43",
   "metadata": {},
   "outputs": [],
   "source": [
    "testData_Relavent_filtered = testData_Relavent[~testData_Relavent[\"createdbyname\"].isin([\"Dheeraj Thimmaiah\", \"Aditya Pathak\"])]\n",
    "\n",
    "#testData_Relavent_filtered.to_csv(\"Updated TE Sales Labelled Data- Analysis.csv\", index=False)"
   ]
  },
  {
   "cell_type": "code",
   "execution_count": 11,
   "id": "59ae71b3-b42e-4197-8928-16b37dbfe540",
   "metadata": {},
   "outputs": [],
   "source": [
    "#testData_Relavent.to_csv('Updated TE Sales Labelled Data- Analysis.csv', index=False)"
   ]
  },
  {
   "cell_type": "code",
   "execution_count": 17,
   "id": "28333418-84c8-48eb-8d6d-e8ac81987faa",
   "metadata": {},
   "outputs": [],
   "source": [
    "testData_Relavent_filtered = testData_Relavent_filtered[relaventColumns].copy()\n",
    "testData_Relavent_filtered[\"abicms_riskscore\"].fillna(testData_Relavent_filtered[\"abicms_riskscore\"].mean(), inplace=True)"
   ]
  },
  {
   "cell_type": "code",
   "execution_count": 14,
   "id": "0b6e60d1-ae10-4ab2-9991-ccf6cf78b8c4",
   "metadata": {},
   "outputs": [],
   "source": [
    "testData_filtered = testData[~testData[\"createdbyname\"].isin([\"Dheeraj Thimmaiah\", \"Aditya Pathak\"])]\n",
    "#testData_filtered.to_csv(\"Updated TE Sales Labelled Data- Analysis.csv\", index=False)"
   ]
  },
  {
   "cell_type": "code",
   "execution_count": 18,
   "id": "d5bc2cb7-9db1-47da-a87a-ebf6fd0eee26",
   "metadata": {},
   "outputs": [
    {
     "name": "stderr",
     "output_type": "stream",
     "text": [
      "C:\\Users\\suraj\\AppData\\Local\\Temp\\ipykernel_14420\\3888632514.py:3: FutureWarning: \n",
      "\n",
      "Passing `palette` without assigning `hue` is deprecated and will be removed in v0.14.0. Assign the `y` variable to `hue` and set `legend=False` for the same effect.\n",
      "\n",
      "  sns.barplot(y=risk_by_creator.index, x=risk_by_creator.values, palette=\"coolwarm\")\n"
     ]
    },
    {
     "data": {
      "image/png": "[encoded data removed]",
      "text/plain": [
       "<Figure size 1000x500 with 1 Axes>"
      ]
     },
     "metadata": {},
     "output_type": "display_data"
    }
   ],
   "source": [
    "risk_by_creator = testData_Relavent_filtered.groupby(\"createdbyname\")[\"abicms_riskscore\"].mean().sort_values()\n",
    "plt.figure(figsize=(10, 5))\n",
    "sns.barplot(y=risk_by_creator.index, x=risk_by_creator.values, palette=\"coolwarm\")\n",
    "plt.title(\"Average Risk Score by Case Creator\")\n",
    "plt.xlabel(\"Average Risk Score\")\n",
    "plt.ylabel(\"Created By\")\n",
    "plt.show()"
   ]
  },
  {
   "cell_type": "code",
   "execution_count": 19,
   "id": "1457af0a-1808-4c8a-a394-3cc001236de2",
   "metadata": {},
   "outputs": [],
   "source": [
    "numericaDataInsights = testData_Relavent_filtered.describe()\n",
    "categoricalDataInsights = testData_Relavent_filtered.select_dtypes(include=['object']).nunique()\n",
    "mfvCategorical = testData_Relavent_filtered.select_dtypes(include=['object']).mode().iloc[0]\n",
    "\n",
    "riskScoreInsights = {\n",
    "    \"Min Risk Score\": testData_Relavent_filtered[\"abicms_riskscore\"].min(),\n",
    "    \"Max Risk Score\": testData_Relavent_filtered[\"abicms_riskscore\"].max(),\n",
    "    \"Mean Risk Score\": testData_Relavent_filtered[\"abicms_riskscore\"].mean(),\n",
    "    \"Median Risk Score\": testData_Relavent_filtered[\"abicms_riskscore\"].median(),\n",
    "    \"Standard Deviation\": testData_Relavent_filtered[\"abicms_riskscore\"].std()\n",
    "}\n",
    "\n",
    "caseCreationCounts = testData_Relavent_filtered[\"createdbyname\"].value_counts()\n",
    "caseModificationCounts = testData_Relavent_filtered[\"modifiedbyname\"].value_counts()\n",
    "\n",
    "riskExpectationCounts = testData_Relavent_filtered[\"abicms_expectationofriskscorename\"].value_counts()\n",
    "\n",
    "riskAvgScore = testData_Relavent_filtered.groupby(\"abicms_expectationofriskscorename\")[\"abicms_riskscore\"].mean()"
   ]
  },
  {
   "cell_type": "code",
   "execution_count": 20,
   "id": "840e35fa-a08a-4218-9ba9-5d018452261d",
   "metadata": {},
   "outputs": [
    {
     "data": {
      "text/html": [
       "<div>\n",
       "<style scoped>\n",
       "    .dataframe tbody tr th:only-of-type {\n",
       "        vertical-align: middle;\n",
       "    }\n",
       "\n",
       "    .dataframe tbody tr th {\n",
       "        vertical-align: top;\n",
       "    }\n",
       "\n",
       "    .dataframe thead th {\n",
       "        text-align: right;\n",
       "    }\n",
       "</style>\n",
       "<table border=\"1\" class=\"dataframe\">\n",
       "  <thead>\n",
       "    <tr style=\"text-align: right;\">\n",
       "      <th></th>\n",
       "      <th>abicms_caseid</th>\n",
       "      <th>abicms_typeofrisktename</th>\n",
       "      <th>createdonbehalfby</th>\n",
       "      <th>createdonbehalfbyname</th>\n",
       "      <th>abicms_riskscore</th>\n",
       "    </tr>\n",
       "  </thead>\n",
       "  <tbody>\n",
       "    <tr>\n",
       "      <th>count</th>\n",
       "      <td>52.000000</td>\n",
       "      <td>0.0</td>\n",
       "      <td>0.0</td>\n",
       "      <td>0.0</td>\n",
       "      <td>52.000000</td>\n",
       "    </tr>\n",
       "    <tr>\n",
       "      <th>mean</th>\n",
       "      <td>44814.692308</td>\n",
       "      <td>NaN</td>\n",
       "      <td>NaN</td>\n",
       "      <td>NaN</td>\n",
       "      <td>28.700000</td>\n",
       "    </tr>\n",
       "    <tr>\n",
       "      <th>std</th>\n",
       "      <td>8803.664817</td>\n",
       "      <td>NaN</td>\n",
       "      <td>NaN</td>\n",
       "      <td>NaN</td>\n",
       "      <td>10.996956</td>\n",
       "    </tr>\n",
       "    <tr>\n",
       "      <th>min</th>\n",
       "      <td>20601.000000</td>\n",
       "      <td>NaN</td>\n",
       "      <td>NaN</td>\n",
       "      <td>NaN</td>\n",
       "      <td>2.200000</td>\n",
       "    </tr>\n",
       "    <tr>\n",
       "      <th>25%</th>\n",
       "      <td>36271.750000</td>\n",
       "      <td>NaN</td>\n",
       "      <td>NaN</td>\n",
       "      <td>NaN</td>\n",
       "      <td>21.740000</td>\n",
       "    </tr>\n",
       "    <tr>\n",
       "      <th>50%</th>\n",
       "      <td>50265.000000</td>\n",
       "      <td>NaN</td>\n",
       "      <td>NaN</td>\n",
       "      <td>NaN</td>\n",
       "      <td>28.700000</td>\n",
       "    </tr>\n",
       "    <tr>\n",
       "      <th>75%</th>\n",
       "      <td>50752.000000</td>\n",
       "      <td>NaN</td>\n",
       "      <td>NaN</td>\n",
       "      <td>NaN</td>\n",
       "      <td>38.887500</td>\n",
       "    </tr>\n",
       "    <tr>\n",
       "      <th>max</th>\n",
       "      <td>50937.000000</td>\n",
       "      <td>NaN</td>\n",
       "      <td>NaN</td>\n",
       "      <td>NaN</td>\n",
       "      <td>48.990000</td>\n",
       "    </tr>\n",
       "  </tbody>\n",
       "</table>\n",
       "</div>"
      ],
      "text/plain": [
       "       abicms_caseid  abicms_typeofrisktename  createdonbehalfby  \\\n",
       "count      52.000000                      0.0                0.0   \n",
       "mean    44814.692308                      NaN                NaN   \n",
       "std      8803.664817                      NaN                NaN   \n",
       "min     20601.000000                      NaN                NaN   \n",
       "25%     36271.750000                      NaN                NaN   \n",
       "50%     50265.000000                      NaN                NaN   \n",
       "75%     50752.000000                      NaN                NaN   \n",
       "max     50937.000000                      NaN                NaN   \n",
       "\n",
       "       createdonbehalfbyname  abicms_riskscore  \n",
       "count                    0.0         52.000000  \n",
       "mean                     NaN         28.700000  \n",
       "std                      NaN         10.996956  \n",
       "min                      NaN          2.200000  \n",
       "25%                      NaN         21.740000  \n",
       "50%                      NaN         28.700000  \n",
       "75%                      NaN         38.887500  \n",
       "max                      NaN         48.990000  "
      ]
     },
     "execution_count": 20,
     "metadata": {},
     "output_type": "execute_result"
    }
   ],
   "source": [
    "numericaDataInsights"
   ]
  },
  {
   "cell_type": "code",
   "execution_count": 21,
   "id": "2c4b6d19-a925-49da-bfb2-0b752c06f10e",
   "metadata": {},
   "outputs": [
    {
     "data": {
      "text/plain": [
       "abicms_casemanagementid              25\n",
       "abicms_casemanagementidname          25\n",
       "abicms_casenumber                    25\n",
       "abicms_casetransactionsid            52\n",
       "abicms_categorytes                    3\n",
       "abicms_comments                       6\n",
       "abicms_subcategorytes                 5\n",
       "abicms_expectationofriskscorename     3\n",
       "modifiedby                            3\n",
       "modifiedbyname                        3\n",
       "createdby                             4\n",
       "createdbyname                         4\n",
       "abicms_typeofrisktesalesname          4\n",
       "dtype: int64"
      ]
     },
     "execution_count": 21,
     "metadata": {},
     "output_type": "execute_result"
    }
   ],
   "source": [
    "categoricalDataInsights"
   ]
  },
  {
   "cell_type": "code",
   "execution_count": 23,
   "id": "aa85bf7e-58a2-456b-b39b-e3d501cfb79c",
   "metadata": {},
   "outputs": [
    {
     "data": {
      "text/plain": [
       "{'Min Risk Score': 2.2,\n",
       " 'Max Risk Score': 48.99,\n",
       " 'Mean Risk Score': 28.700000000000003,\n",
       " 'Median Risk Score': 28.699999999999996,\n",
       " 'Standard Deviation': 10.996956085083495}"
      ]
     },
     "execution_count": 23,
     "metadata": {},
     "output_type": "execute_result"
    }
   ],
   "source": [
    "riskScoreInsights"
   ]
  },
  {
   "cell_type": "code",
   "execution_count": 24,
   "id": "3d7b66bd-0f89-44a8-a29d-2557a12df4cb",
   "metadata": {},
   "outputs": [
    {
     "data": {
      "text/plain": [
       "createdbyname\n",
       "JonCarlo Villegas                  21\n",
       "SRV_BrewRight.GHQ BrewRight.GHQ    17\n",
       "Joshua Swyers                      11\n",
       "Amanda Moura                        3\n",
       "Name: count, dtype: int64"
      ]
     },
     "execution_count": 24,
     "metadata": {},
     "output_type": "execute_result"
    }
   ],
   "source": [
    "caseCreationCounts.head(5)"
   ]
  },
  {
   "cell_type": "code",
   "execution_count": 29,
   "id": "d4f66a27-99ac-46c3-b8fa-dd6a2a919950",
   "metadata": {},
   "outputs": [
    {
     "name": "stderr",
     "output_type": "stream",
     "text": [
      "C:\\Users\\suraj\\AppData\\Local\\Temp\\ipykernel_14420\\3888632514.py:3: FutureWarning: \n",
      "\n",
      "Passing `palette` without assigning `hue` is deprecated and will be removed in v0.14.0. Assign the `y` variable to `hue` and set `legend=False` for the same effect.\n",
      "\n",
      "  sns.barplot(y=risk_by_creator.index, x=risk_by_creator.values, palette=\"coolwarm\")\n"
     ]
    },
    {
     "data": {
      "image/png": "[encoded data removed]",
      "text/plain": [
       "<Figure size 1000x500 with 1 Axes>"
      ]
     },
     "metadata": {},
     "output_type": "display_data"
    }
   ],
   "source": [
    "risk_by_creator = testData_Relavent_filtered.groupby(\"createdbyname\")[\"abicms_riskscore\"].mean().sort_values()\n",
    "plt.figure(figsize=(10, 5))\n",
    "sns.barplot(y=risk_by_creator.index, x=risk_by_creator.values, palette=\"coolwarm\")\n",
    "plt.title(\"Average Risk Score by Case Creator\")\n",
    "plt.xlabel(\"Average Risk Score\")\n",
    "plt.ylabel(\"Created By\")\n",
    "plt.show()"
   ]
  },
  {
   "cell_type": "code",
   "execution_count": 30,
   "id": "b86fedf2-886c-4b8c-85c4-d53d2882ab71",
   "metadata": {},
   "outputs": [],
   "source": [
    "testData_Relavent_filtered_comments = testData_Relavent_filtered[~testData_Relavent_filtered[\"abicms_comments\"].isin([\"TEST\"])]"
   ]
  },
  {
   "cell_type": "code",
   "execution_count": 38,
   "id": "833c896e-18f8-4f0c-bf5b-3f3c5330be1e",
   "metadata": {},
   "outputs": [
    {
     "name": "stderr",
     "output_type": "stream",
     "text": [
      "C:\\Users\\suraj\\AppData\\Local\\Temp\\ipykernel_14420\\1691825198.py:3: FutureWarning: \n",
      "\n",
      "Passing `palette` without assigning `hue` is deprecated and will be removed in v0.14.0. Assign the `y` variable to `hue` and set `legend=False` for the same effect.\n",
      "\n",
      "  sns.barplot(y=risk_by_creator.index, x=risk_by_creator.values, palette=\"coolwarm\")\n"
     ]
    },
    {
     "data": {
      "image/png": "[encoded data removed]",
      "text/plain": [
       "<Figure size 1000x500 with 1 Axes>"
      ]
     },
     "metadata": {},
     "output_type": "display_data"
    }
   ],
   "source": [
    "risk_by_creator = testData_Relavent_filtered_comments.groupby(\"createdbyname\")[\"abicms_riskscore\"].mean().sort_values()\n",
    "plt.figure(figsize=(10, 5))\n",
    "sns.barplot(y=risk_by_creator.index, x=risk_by_creator.values, palette=\"coolwarm\")\n",
    "plt.title(\"Average Risk Score by Case Creator\")\n",
    "plt.xlabel(\"Average Risk Score\")\n",
    "plt.ylabel(\"Created By\")\n",
    "plt.show()"
   ]
  },
  {
   "cell_type": "code",
   "execution_count": 34,
   "id": "8bee8d1c-8291-4bfb-b8ef-cd7e00a5d219",
   "metadata": {},
   "outputs": [],
   "source": [
    "numericaDataInsights = testData_Relavent_filtered_comments.describe()\n",
    "categoricalDataInsights = testData_Relavent_filtered_comments.select_dtypes(include=['object']).nunique()\n",
    "mfvCategorical = testData_Relavent_filtered_comments.select_dtypes(include=['object']).mode().iloc[0]\n",
    "\n",
    "riskScoreInsights = {\n",
    "    \"Min Risk Score\": testData_Relavent_filtered_comments[\"abicms_riskscore\"].min(),\n",
    "    \"Max Risk Score\": testData_Relavent_filtered_comments[\"abicms_riskscore\"].max(),\n",
    "    \"Mean Risk Score\": testData_Relavent_filtered_comments[\"abicms_riskscore\"].mean(),\n",
    "    \"Median Risk Score\": testData_Relavent_filtered_comments[\"abicms_riskscore\"].median(),\n",
    "    \"Standard Deviation\": testData_Relavent_filtered_comments[\"abicms_riskscore\"].std()\n",
    "}\n",
    "\n",
    "caseCreationCounts = testData_Relavent_filtered_comments[\"createdbyname\"].value_counts()\n",
    "caseModificationCounts = testData_Relavent_filtered_comments[\"modifiedbyname\"].value_counts()\n",
    "\n",
    "riskExpectationCounts = testData_Relavent_filtered_comments[\"abicms_expectationofriskscorename\"].value_counts()\n",
    "\n",
    "riskAvgScore = testData_Relavent_filtered_comments.groupby(\"abicms_expectationofriskscorename\")[\"abicms_riskscore\"].mean()"
   ]
  },
  {
   "cell_type": "code",
   "execution_count": 33,
   "id": "28355c6e-7fed-44bc-b5d0-8c32148b2687",
   "metadata": {},
   "outputs": [
    {
     "data": {
      "text/html": [
       "<div>\n",
       "<style scoped>\n",
       "    .dataframe tbody tr th:only-of-type {\n",
       "        vertical-align: middle;\n",
       "    }\n",
       "\n",
       "    .dataframe tbody tr th {\n",
       "        vertical-align: top;\n",
       "    }\n",
       "\n",
       "    .dataframe thead th {\n",
       "        text-align: right;\n",
       "    }\n",
       "</style>\n",
       "<table border=\"1\" class=\"dataframe\">\n",
       "  <thead>\n",
       "    <tr style=\"text-align: right;\">\n",
       "      <th></th>\n",
       "      <th>abicms_caseid</th>\n",
       "      <th>abicms_typeofrisktename</th>\n",
       "      <th>createdonbehalfby</th>\n",
       "      <th>createdonbehalfbyname</th>\n",
       "      <th>abicms_riskscore</th>\n",
       "    </tr>\n",
       "  </thead>\n",
       "  <tbody>\n",
       "    <tr>\n",
       "      <th>count</th>\n",
       "      <td>52.000000</td>\n",
       "      <td>0.0</td>\n",
       "      <td>0.0</td>\n",
       "      <td>0.0</td>\n",
       "      <td>52.000000</td>\n",
       "    </tr>\n",
       "    <tr>\n",
       "      <th>mean</th>\n",
       "      <td>44814.692308</td>\n",
       "      <td>NaN</td>\n",
       "      <td>NaN</td>\n",
       "      <td>NaN</td>\n",
       "      <td>28.700000</td>\n",
       "    </tr>\n",
       "    <tr>\n",
       "      <th>std</th>\n",
       "      <td>8803.664817</td>\n",
       "      <td>NaN</td>\n",
       "      <td>NaN</td>\n",
       "      <td>NaN</td>\n",
       "      <td>10.996956</td>\n",
       "    </tr>\n",
       "    <tr>\n",
       "      <th>min</th>\n",
       "      <td>20601.000000</td>\n",
       "      <td>NaN</td>\n",
       "      <td>NaN</td>\n",
       "      <td>NaN</td>\n",
       "      <td>2.200000</td>\n",
       "    </tr>\n",
       "    <tr>\n",
       "      <th>25%</th>\n",
       "      <td>36271.750000</td>\n",
       "      <td>NaN</td>\n",
       "      <td>NaN</td>\n",
       "      <td>NaN</td>\n",
       "      <td>21.740000</td>\n",
       "    </tr>\n",
       "    <tr>\n",
       "      <th>50%</th>\n",
       "      <td>50265.000000</td>\n",
       "      <td>NaN</td>\n",
       "      <td>NaN</td>\n",
       "      <td>NaN</td>\n",
       "      <td>28.700000</td>\n",
       "    </tr>\n",
       "    <tr>\n",
       "      <th>75%</th>\n",
       "      <td>50752.000000</td>\n",
       "      <td>NaN</td>\n",
       "      <td>NaN</td>\n",
       "      <td>NaN</td>\n",
       "      <td>38.887500</td>\n",
       "    </tr>\n",
       "    <tr>\n",
       "      <th>max</th>\n",
       "      <td>50937.000000</td>\n",
       "      <td>NaN</td>\n",
       "      <td>NaN</td>\n",
       "      <td>NaN</td>\n",
       "      <td>48.990000</td>\n",
       "    </tr>\n",
       "  </tbody>\n",
       "</table>\n",
       "</div>"
      ],
      "text/plain": [
       "       abicms_caseid  abicms_typeofrisktename  createdonbehalfby  \\\n",
       "count      52.000000                      0.0                0.0   \n",
       "mean    44814.692308                      NaN                NaN   \n",
       "std      8803.664817                      NaN                NaN   \n",
       "min     20601.000000                      NaN                NaN   \n",
       "25%     36271.750000                      NaN                NaN   \n",
       "50%     50265.000000                      NaN                NaN   \n",
       "75%     50752.000000                      NaN                NaN   \n",
       "max     50937.000000                      NaN                NaN   \n",
       "\n",
       "       createdonbehalfbyname  abicms_riskscore  \n",
       "count                    0.0         52.000000  \n",
       "mean                     NaN         28.700000  \n",
       "std                      NaN         10.996956  \n",
       "min                      NaN          2.200000  \n",
       "25%                      NaN         21.740000  \n",
       "50%                      NaN         28.700000  \n",
       "75%                      NaN         38.887500  \n",
       "max                      NaN         48.990000  "
      ]
     },
     "execution_count": 33,
     "metadata": {},
     "output_type": "execute_result"
    }
   ],
   "source": [
    "numericaDataInsights"
   ]
  },
  {
   "cell_type": "code",
   "execution_count": 35,
   "id": "c4185ed9-c572-4ef9-bd8d-ff879930fa38",
   "metadata": {},
   "outputs": [
    {
     "data": {
      "text/plain": [
       "abicms_casemanagementid              24\n",
       "abicms_casemanagementidname          24\n",
       "abicms_casenumber                    24\n",
       "abicms_casetransactionsid            49\n",
       "abicms_categorytes                    2\n",
       "abicms_comments                       5\n",
       "abicms_subcategorytes                 2\n",
       "abicms_expectationofriskscorename     2\n",
       "modifiedby                            3\n",
       "modifiedbyname                        3\n",
       "createdby                             3\n",
       "createdbyname                         3\n",
       "abicms_typeofrisktesalesname          1\n",
       "dtype: int64"
      ]
     },
     "execution_count": 35,
     "metadata": {},
     "output_type": "execute_result"
    }
   ],
   "source": [
    "categoricalDataInsights"
   ]
  },
  {
   "cell_type": "code",
   "execution_count": 36,
   "id": "028260a1-081b-4ef0-ac1e-b03bf5aafc38",
   "metadata": {},
   "outputs": [
    {
     "data": {
      "text/plain": [
       "{'Min Risk Score': 2.2,\n",
       " 'Max Risk Score': 48.99,\n",
       " 'Mean Risk Score': 30.321224489795913,\n",
       " 'Median Risk Score': 28.699999999999996,\n",
       " 'Standard Deviation': 9.054492354777329}"
      ]
     },
     "execution_count": 36,
     "metadata": {},
     "output_type": "execute_result"
    }
   ],
   "source": [
    "riskScoreInsights"
   ]
  },
  {
   "cell_type": "code",
   "execution_count": 37,
   "id": "fa77f25f-a9ec-448a-96f5-e5c3d487a730",
   "metadata": {},
   "outputs": [
    {
     "data": {
      "text/plain": [
       "createdbyname\n",
       "JonCarlo Villegas                  21\n",
       "SRV_BrewRight.GHQ BrewRight.GHQ    17\n",
       "Joshua Swyers                      11\n",
       "Name: count, dtype: int64"
      ]
     },
     "execution_count": 37,
     "metadata": {},
     "output_type": "execute_result"
    }
   ],
   "source": [
    "caseCreationCounts.head(5)"
   ]
  },
  {
   "cell_type": "code",
   "execution_count": 39,
   "id": "55918e1a-e791-4771-a328-f5a8c7663cfe",
   "metadata": {},
   "outputs": [
    {
     "data": {
      "text/plain": [
       "1                   NaN\n",
       "2                   NaN\n",
       "3                   NaN\n",
       "4                   NaN\n",
       "5                   NaN\n",
       "6                   NaN\n",
       "7                   NaN\n",
       "12                  NaN\n",
       "13                  NaN\n",
       "14                  NaN\n",
       "15              No Risk\n",
       "16              No Risk\n",
       "17              No Risk\n",
       "18              No Risk\n",
       "19              No Risk\n",
       "20              No Risk\n",
       "21              No Risk\n",
       "22                  NaN\n",
       "23    Gift and Donation\n",
       "24                  NaN\n",
       "25                  NaN\n",
       "26                  NaN\n",
       "27                  NaN\n",
       "28                  NaN\n",
       "29                  NaN\n",
       "30                  NaN\n",
       "31                  NaN\n",
       "32                  NaN\n",
       "33                  NaN\n",
       "34                  NaN\n",
       "35                  NaN\n",
       "36                  NaN\n",
       "37                  NaN\n",
       "38                  NaN\n",
       "39                  NaN\n",
       "40                  NaN\n",
       "41                  NaN\n",
       "42                  NaN\n",
       "43                  NaN\n",
       "44                  NaN\n",
       "45                  NaN\n",
       "46                  NaN\n",
       "47                  NaN\n",
       "48                  NaN\n",
       "49                  NaN\n",
       "50                  NaN\n",
       "51                  NaN\n",
       "52                  NaN\n",
       "53                  NaN\n",
       "Name: abicms_subcategorytes, dtype: object"
      ]
     },
     "execution_count": 39,
     "metadata": {},
     "output_type": "execute_result"
    }
   ],
   "source": [
    "testData_Relavent_filtered_comments['abicms_subcategorytes']"
   ]
  },
  {
   "cell_type": "code",
   "execution_count": 42,
   "id": "679671c6-397a-4f59-b3ef-ca57d7f4cc69",
   "metadata": {},
   "outputs": [],
   "source": [
    "subcatWithCategory = testData_Relavent_filtered_comments.groupby('abicms_categorytes')['abicms_subcategorytes'].unique()"
   ]
  },
  {
   "cell_type": "code",
   "execution_count": 43,
   "id": "b9a93580-15a1-44dc-8137-9220ee6713cf",
   "metadata": {},
   "outputs": [
    {
     "data": {
      "text/plain": [
       "abicms_categorytes\n",
       "Keyword    [Gift and Donation, nan]\n",
       "No Risk                   [No Risk]\n",
       "Name: abicms_subcategorytes, dtype: object"
      ]
     },
     "execution_count": 43,
     "metadata": {},
     "output_type": "execute_result"
    }
   ],
   "source": [
    "subcatWithCategory"
   ]
  },
  {
   "cell_type": "code",
   "execution_count": 44,
   "id": "3a13fddb-d5d8-44ea-8ddb-e5ab1276b243",
   "metadata": {},
   "outputs": [],
   "source": [
    "testData_Relavent_filtered_comments.to_csv(\"Updated_V2 TE Sales Labelled Data- Analysis.csv\", index=False)"
   ]
  }
 ],
 "metadata": {
  "kernelspec": {
   "display_name": "Python 3 (ipykernel)",
   "language": "python",
   "name": "python3"
  },
  "language_info": {
   "codemirror_mode": {
    "name": "ipython",
    "version": 3
   },
   "file_extension": ".py",
   "mimetype": "text/x-python",
   "name": "python",
   "nbconvert_exporter": "python",
   "pygments_lexer": "ipython3",
   "version": "3.11.3"
  }
 },
 "nbformat": 4,
 "nbformat_minor": 5
}
